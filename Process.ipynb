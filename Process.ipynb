{
 "cells": [
  {
   "cell_type": "code",
   "execution_count": null,
   "metadata": {},
   "outputs": [],
   "source": [
    "import pandas as pd\n",
    "from vaderSentiment.vaderSentiment import SentimentIntensityAnalyzer\n",
    "\n",
    "counter = 1\n",
    "\n",
    "while (counter <= 426):\n",
    "\n",
    "    # Initialize the SentimentIntensityAnalyzer\n",
    "    analyzer = SentimentIntensityAnalyzer()\n",
    "\n",
    "    # Read the input CSV file into a Pandas DataFrame\n",
    "    df = pd.read_csv('WEEK {}.csv'.format(counter), sep=',')\n",
    "\n",
    "    # Use the apply method to analyze the sentiment of the text in the 'text' column\n",
    "    df['sentiment'] = df['Cleaned Text'].apply(lambda x: analyzer.polarity_scores(x))\n",
    "\n",
    "    # Use the apply method to extract the compound, positive, neutral, and negative scores\n",
    "    df['compound'] = df['sentiment'].apply(lambda x: x['compound'])\n",
    "    df['positive'] = df['sentiment'].apply(lambda x: x['pos'])\n",
    "    df['neutral'] = df['sentiment'].apply(lambda x: x['neu'])\n",
    "    df['negative'] = df['sentiment'].apply(lambda x: x['neg'])\n",
    "\n",
    "    # Write the results to a new CSV file\n",
    "    df.to_csv('WEEK {}.csv'.format(counter), sep=',', index=False)\n",
    "\n",
    "    counter += 1\n"
   ]
  }
 ],
 "metadata": {
  "language_info": {
   "name": "python"
  },
  "orig_nbformat": 4
 },
 "nbformat": 4,
 "nbformat_minor": 2
}
