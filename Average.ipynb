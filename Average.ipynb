{
 "cells": [
  {
   "cell_type": "code",
   "execution_count": null,
   "metadata": {},
   "outputs": [],
   "source": [
    "import csv\n",
    "import statistics\n",
    "import datetime\n",
    "from datetime import date\n",
    "\n",
    "start_date = datetime.date(2014,10,30)\n",
    "delta = datetime.timedelta(days=7)\n",
    "counter = 1\n",
    "\n",
    "while (counter <= 426):\n",
    "    def calculate_average(filename):\n",
    "        # Open the input CSV file in read mode\n",
    "        with open('WEEK {}.csv'.format(counter), 'r') as infile:\n",
    "            reader = csv.reader(infile)\n",
    "\n",
    "            next(reader)\n",
    "            values = []\n",
    "            for row in reader:\n",
    "                value = row[2]\n",
    "                value = float(value)\n",
    "                values.append(value)\n",
    "\n",
    "            # Calculate the average of the values\n",
    "            average = statistics.mean(values)\n",
    "            return average\n",
    "\n",
    "    # Input filenames\n",
    "    dateformat = start_date.strftime(\"%d-%m-%Y\")\n",
    "    filename = '{}'.format(dateformat)\n",
    "\n",
    "    # Calculate the average of the column in the input CSV file\n",
    "    average = calculate_average(filename)\n",
    "\n",
    "    # Write the average value to the output CSV file\n",
    "    with open('Sentiment.csv', 'a', newline='') as outfile:\n",
    "            writer = csv.writer(outfile)\n",
    "            writer.writerow([filename, average])\n",
    "    \n",
    "    start_date += delta\n",
    "    counter += 1\n"
   ]
  }
 ],
 "metadata": {
  "language_info": {
   "name": "python"
  },
  "orig_nbformat": 4
 },
 "nbformat": 4,
 "nbformat_minor": 2
}
