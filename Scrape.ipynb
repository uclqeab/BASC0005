{
 "cells": [
  {
   "cell_type": "code",
   "execution_count": null,
   "metadata": {},
   "outputs": [],
   "source": [
    "import snscrape.modules.twitter as sntwitter\n",
    "import pandas as pd\n",
    "import datetime\n",
    "\n",
    "from datetime import date\n",
    "start_date = datetime.date(2014,10,30)\n",
    "end_date = datetime.date(2022,12,21)\n",
    "upper_date = datetime.date(2014,11,5)\n",
    "delta = datetime.timedelta(days=7)\n",
    "location = '56.816918,-4.182649,170km'\n",
    "counter = 1\n",
    "\n",
    "while (start_date <= end_date):\n",
    "\n",
    "  # Creating list to append tweet data to\n",
    "  tweets_list1 = []\n",
    "\n",
    "  query = '#scotdecides OR #indyref OR #indyref2 OR #scottishindependence OR #scotlandexit  geocode:{} since:{} until:{} min_faves:1'.format(location, start_date, upper_date)\n",
    "\n",
    "  #Using TwitterSearchScraper to scrape data and append tweets to list\n",
    "  for i,tweet in enumerate(sntwitter.TwitterSearchScraper('{}'.format(query)).get_items()):\n",
    "      if i>99:\n",
    "          break\n",
    "      tweets_list1.append([tweet.content, tweet.user.location])\n",
    "    \n",
    "  # Creating a dataframe from the tweets list above\n",
    "  tweets_df1 = pd.DataFrame(tweets_list1, columns=['Text', 'Location'])\n",
    "  tweets_df1.to_csv('WEEK {}.csv'.format(counter), sep=',', index=False)\n",
    "\n",
    "  start_date += delta\n",
    "  upper_date += delta\n",
    "  counter += 1\n"
   ]
  }
 ],
 "metadata": {
  "language_info": {
   "name": "python"
  },
  "orig_nbformat": 4
 },
 "nbformat": 4,
 "nbformat_minor": 2
}
